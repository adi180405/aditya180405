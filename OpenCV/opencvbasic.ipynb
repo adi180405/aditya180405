{
 "cells": [
  {
   "cell_type": "code",
   "execution_count": null,
   "id": "36b5f6f0",
   "metadata": {},
   "outputs": [],
   "source": [
    "import cv2"
   ]
  },
  {
   "cell_type": "code",
   "execution_count": null,
   "id": "83f457c7",
   "metadata": {},
   "outputs": [],
   "source": [
    "image=cv2.imread('photo.jpeg')"
   ]
  },
  {
   "cell_type": "code",
   "execution_count": null,
   "id": "0e7b4c81",
   "metadata": {},
   "outputs": [],
   "source": [
    "if image is not None:\n",
    "    cv2.imshow('photo',image)\n",
    "    cv2.waitKey(0)\n",
    "    cv2.destroyAllWindows()\n",
    "else:\n",
    "    print('image is found')"
   ]
  },
  {
   "cell_type": "code",
   "execution_count": null,
   "id": "58c4f25f",
   "metadata": {},
   "outputs": [],
   "source": [
    "if image is not None:\n",
    "    success=cv2.imwrite('img.jpg',image)\n",
    "    if success:\n",
    "        print('img is save')\n",
    "    else:\n",
    "        print('faild to save img')\n",
    "else:\n",
    "    print('error')"
   ]
  },
  {
   "cell_type": "code",
   "execution_count": null,
   "id": "50cb16a3",
   "metadata": {},
   "outputs": [],
   "source": [
    "#image deminsion\n",
    "image.shape"
   ]
  },
  {
   "cell_type": "markdown",
   "id": "27125480",
   "metadata": {},
   "source": [
    "Black and white image"
   ]
  },
  {
   "cell_type": "code",
   "execution_count": null,
   "id": "c96d24b9",
   "metadata": {},
   "outputs": [],
   "source": [
    "gray=cv2.cvtColor(image,cv2.COLOR_BGRA2GRAY)"
   ]
  },
  {
   "cell_type": "code",
   "execution_count": null,
   "id": "c7bdcb62",
   "metadata": {},
   "outputs": [],
   "source": [
    "cv2.imshow('i',gray)\n",
    "cv2.waitKey(0)\n",
    "cv2.destroyAllWindows()"
   ]
  },
  {
   "cell_type": "code",
   "execution_count": null,
   "id": "a10e0700",
   "metadata": {},
   "outputs": [],
   "source": [
    "image=input('image path')\n",
    "i=cv2.imread(image)\n",
    "gra=cv2.cvtColor(i,cv2.COLOR_RGB2GRAY)\n",
    "show=str(input('you want to see the image press yes or YES and to Save press save or SAVE'))\n",
    "if show.lower()=='yes':\n",
    "    \n",
    "    cv2.imshow('image',gra)\n",
    "    cv2.waitKey(0)\n",
    "    cv2.destroyAllWindows()\n",
    "else:\n",
    "\n",
    "    path=str(input('enter the path'))\n",
    "    c=f'{path}.jpg'\n",
    "    cv2.imwrite(c,gra)"
   ]
  },
  {
   "cell_type": "code",
   "execution_count": null,
   "id": "ac930761",
   "metadata": {},
   "outputs": [],
   "source": [
    "image=cv2.imread('photo.jpeg')\n",
    "if image is None:\n",
    "    print('error')\n",
    "    \n",
    "else:\n",
    "    cv2.imshow('real image',image)\n",
    "    resized=cv2.resize(image,(500,500))\n",
    "    cv2.imshow('resized image',resized)\n",
    "    cv2.waitKey(0)\n",
    "    cv2.destroyAllWindows()"
   ]
  },
  {
   "cell_type": "markdown",
   "id": "b96e2eed",
   "metadata": {},
   "source": [
    "Cropping images using slicing in opencv"
   ]
  },
  {
   "cell_type": "code",
   "execution_count": null,
   "id": "7355bddb",
   "metadata": {},
   "outputs": [],
   "source": [
    "croped=image[100:200,50:150]\n",
    "cv2.imshow('croped',croped)\n",
    "cv2.waitKey(0)\n",
    "cv2.destroyAllWindows()"
   ]
  },
  {
   "cell_type": "markdown",
   "id": "92e08c55",
   "metadata": {},
   "source": [
    "image rotation and flipping\n"
   ]
  },
  {
   "cell_type": "code",
   "execution_count": null,
   "id": "b00a2c9a",
   "metadata": {},
   "outputs": [],
   "source": [
    "x,y,z=image.shape"
   ]
  },
  {
   "cell_type": "code",
   "execution_count": null,
   "id": "9a302c7a",
   "metadata": {},
   "outputs": [],
   "source": [
    "a=x//2\n",
    "b=y//2"
   ]
  },
  {
   "cell_type": "code",
   "execution_count": null,
   "id": "604d66a8",
   "metadata": {},
   "outputs": [],
   "source": [
    "x,y"
   ]
  },
  {
   "cell_type": "code",
   "execution_count": null,
   "id": "016ed0db",
   "metadata": {},
   "outputs": [],
   "source": [
    "m=cv2.getRotationMatrix2D((a,b),180.0,scale=1.0)\n",
    "rotation=cv2.warpAffine(image,m,(x,y))\n",
    "cv2.imshow('rotation',rotation)\n",
    "cv2.waitKey(0)\n",
    "cv2.destroyAllWindows()"
   ]
  },
  {
   "cell_type": "code",
   "execution_count": null,
   "id": "760bf9dd",
   "metadata": {},
   "outputs": [],
   "source": [
    "#flipping\n",
    "flipping_horizontally=cv2.flip(image,1)\n",
    "flipping_vertically=cv2.flip(image,0)\n",
    "flipping_both=cv2.flip(image,-1)\n",
    "cv2.imshow('original',image)\n",
    "cv2.imshow('horizontal',flipping_horizontally)\n",
    "cv2.imshow('vertical',flipping_vertically)\n",
    "cv2.imshow('both',flipping_both)\n",
    "cv2.waitKey(0)\n",
    "cv2.destroyAllWindows()"
   ]
  },
  {
   "cell_type": "markdown",
   "id": "0426e9dc",
   "metadata": {},
   "source": [
    "Drawing image drawing techniques\n"
   ]
  },
  {
   "cell_type": "code",
   "execution_count": null,
   "id": "bc7ec63f",
   "metadata": {},
   "outputs": [],
   "source": [
    "pt1=(60,20)\n",
    "pt2=(90,30)\n",
    "color=(255,0,0)\n",
    "thickness=4\n",
    "cv2.line(image,pt1,pt2,color,thickness)\n",
    "cv2.imshow('imge',image)\n",
    "cv2.waitKey(0)\n",
    "cv2.destroyAllWindows()"
   ]
  },
  {
   "cell_type": "markdown",
   "id": "30f1105e",
   "metadata": {},
   "source": [
    "Drawing the rectangle "
   ]
  },
  {
   "cell_type": "code",
   "execution_count": null,
   "id": "d14e4f79",
   "metadata": {},
   "outputs": [],
   "source": [
    "x,y,z=image.shape"
   ]
  },
  {
   "cell_type": "code",
   "execution_count": null,
   "id": "981f532b",
   "metadata": {},
   "outputs": [],
   "source": [
    "pt1=(40,50)\n",
    "pt2=(150,200)\n",
    "color=(0,0,255)\n",
    "thickness=3\n",
    "cv2.rectangle(image,pt1,pt2,color,thickness)\n",
    "cv2.imshow('img',image)\n",
    "cv2.waitKey(0)\n",
    "cv2.destroyAllWindows()"
   ]
  },
  {
   "cell_type": "code",
   "execution_count": null,
   "id": "7f4fb1a3",
   "metadata": {},
   "outputs": [],
   "source": [
    "a=x//2\n",
    "b=y//2"
   ]
  },
  {
   "cell_type": "markdown",
   "id": "ec56702f",
   "metadata": {},
   "source": [
    "Drawing the circle"
   ]
  },
  {
   "cell_type": "code",
   "execution_count": null,
   "id": "b803475e",
   "metadata": {},
   "outputs": [],
   "source": [
    "center=(a,b)\n",
    "radius=60\n",
    "color=(0,255,0)\n",
    "thickness=3\n",
    "cv2.circle(image,center,radius,color,thickness)\n",
    "cv2.imshow('img',image)\n",
    "cv2.waitKey(0)\n",
    "cv2.destroyAllWindows()"
   ]
  },
  {
   "cell_type": "code",
   "execution_count": null,
   "id": "7a64a236",
   "metadata": {},
   "outputs": [],
   "source": [
    "cv2.putText(image,'hello patil',(18,90),cv2.FONT_HERSHEY_SIMPLEX,1.2,(0,255,255),3)\n",
    "cv2.imshow('img',image)\n",
    "cv2.waitKey(0)\n",
    "cv2.destroyAllWindows()"
   ]
  },
  {
   "cell_type": "markdown",
   "id": "557ca198",
   "metadata": {},
   "source": [
    "Video Processing Workflow"
   ]
  },
  {
   "cell_type": "code",
   "execution_count": null,
   "id": "566604e0",
   "metadata": {},
   "outputs": [],
   "source": [
    "cap=cv2.VideoCapture(0)\n",
    "while True:\n",
    "    ret,frame=cap.read() # ret=true/false frame = image\n",
    "    \n",
    "    if not ret:\n",
    "        print('could not read the frame')\n",
    "        break\n",
    "    cv2.imshow('webcam feed',frame)\n",
    "    if cv2.waitKey(1) & 0xFF==ord('q'):\n",
    "        print('quitting...')\n",
    "        break\n",
    "cap.release()\n",
    "cv2.destroyAllWindows()\n",
    "        \n",
    "    "
   ]
  },
  {
   "cell_type": "markdown",
   "id": "4a1c8f14",
   "metadata": {},
   "source": [
    "Recodering the video \n"
   ]
  },
  {
   "cell_type": "code",
   "execution_count": null,
   "id": "078c4039",
   "metadata": {},
   "outputs": [],
   "source": [
    "camera=cv2.VideoCapture(0)\n",
    "frame_width=int(camera.get(cv2.CAP_PROP_FRAME_WIDTH))\n",
    "frame_height=int(camera.get(cv2.CAP_PROP_FRAME_HEIGHT))\n",
    "codec=cv2.VideoWriter_fourcc(*'XVID')\n",
    "recorder=cv2.VideoWriter('my_video.avi',codec,60,(frame_width,frame_height))\n",
    "\n",
    "while True:\n",
    "    success,image=camera.read()\n",
    "    if not success:\n",
    "        break\n",
    "    recorder.write(image)\n",
    "    cv2.imshow('recording live',image)\n",
    "    if cv2.waitKey(1) & 0xFF==ord('q'):\n",
    "        break\n",
    "camera.release()\n",
    "recorder.release()\n",
    "cv2.destroyAllWindows()"
   ]
  },
  {
   "cell_type": "markdown",
   "id": "2c901511",
   "metadata": {},
   "source": [
    "Blurring 1) Gaussiaon Blur"
   ]
  },
  {
   "cell_type": "code",
   "execution_count": null,
   "id": "332b3916",
   "metadata": {},
   "outputs": [],
   "source": [
    "image=cv2.imread('img.jpg')\n",
    "blurred=cv2.GaussianBlur(image,(7,7),0)\n",
    "cv2.imshow('real img',image)\n",
    "cv2.imshow('fliter image',blurred)\n",
    "cv2.waitKey(0)\n",
    "cv2.destroyAllWindows()"
   ]
  },
  {
   "cell_type": "markdown",
   "id": "b71e513d",
   "metadata": {},
   "source": [
    "Median Blur\n"
   ]
  },
  {
   "cell_type": "code",
   "execution_count": null,
   "id": "bdeb0db1",
   "metadata": {},
   "outputs": [],
   "source": [
    "median=cv2.medianBlur(image,5)\n",
    "cv2.imshow('original',image)\n",
    "cv2.imshow('filter',median)\n",
    "cv2.waitKey(0)\n",
    "cv2.destroyAllWindows()"
   ]
  },
  {
   "cell_type": "markdown",
   "id": "e637b02d",
   "metadata": {},
   "source": [
    "Sharpening the image"
   ]
  },
  {
   "cell_type": "code",
   "execution_count": null,
   "id": "c644b638",
   "metadata": {},
   "outputs": [],
   "source": [
    "import numpy as np\n",
    "img=cv2.imread(\"low resolution.jpeg\")\n",
    "kernel_matrix=np.array([\n",
    "    [0,-1,0],\n",
    "    [-1,5,-1],\n",
    "    [0,-1,0]\n",
    "])\n",
    "shapred=cv2.filter2D(img,-1,kernel_matrix)\n",
    "cv2.imshow('original',img)\n",
    "cv2.imshow('shapred',shapred)\n",
    "cv2.waitKey(0)\n",
    "cv2.destroyAllWindows()"
   ]
  },
  {
   "cell_type": "code",
   "execution_count": null,
   "id": "51253062",
   "metadata": {},
   "outputs": [],
   "source": []
  },
  {
   "cell_type": "code",
   "execution_count": null,
   "id": "b3bdc463",
   "metadata": {},
   "outputs": [],
   "source": [
    "image=cv2.imread('flower.jpeg',cv2.IMREAD_GRAYSCALE)\n",
    "edge=cv2.Canny(image,50,150)\n",
    "cv2.imshow('real',image)\n",
    "cv2.imshow('edges',edge)\n",
    "cv2.waitKey(0)\n",
    "cv2.destroyAllWindows()"
   ]
  },
  {
   "cell_type": "markdown",
   "id": "ec588990",
   "metadata": {},
   "source": [
    "Bitwise operators"
   ]
  },
  {
   "cell_type": "code",
   "execution_count": null,
   "id": "bc1bb535",
   "metadata": {},
   "outputs": [],
   "source": [
    "import numpy as np\n",
    "import cv2\n",
    "img1=np.zeros((300,300),dtype='uint8')\n",
    "img2=np.zeros((300,300),dtype='uint8')\n",
    "cv2.circle(img1,(150,150),100,255,-1)\n",
    "cv2.rectangle(img2,(100,100),(250,250),255,-1)\n",
    "biwise_and=cv2.bitwise_and(img1,img2)\n",
    "bitwise_or=cv2.bitwise_or(img1,img2)\n",
    "bitwise_not=cv2.bitwise_not(img1)\n",
    "\n",
    "cv2.imshow('circle',img1)\n",
    "cv2.imshow('rectrangle',img2)\n",
    "cv2.imshow('and',biwise_and)\n",
    "cv2.imshow('or',bitwise_or)\n",
    "cv2.imshow('not',bitwise_not)\n",
    "cv2.waitKey(0)\n",
    "cv2.destroyAllWindows()"
   ]
  },
  {
   "cell_type": "markdown",
   "id": "3c7e91ff",
   "metadata": {},
   "source": [
    "Contours and shape detection"
   ]
  },
  {
   "cell_type": "code",
   "execution_count": null,
   "id": "99770f84",
   "metadata": {},
   "outputs": [],
   "source": [
    "import cv2\n",
    "\n",
    "img = cv2.imread('flower.jpeg')\n",
    "\n",
    "gray = cv2.cvtColor(img, cv2.COLOR_BGR2GRAY)\n",
    "\n",
    "\n",
    "_, thresh = cv2.threshold(gray, 200, 255, cv2.THRESH_BINARY)\n",
    "\n",
    "\n",
    "contours, hierarchy = cv2.findContours(thresh, cv2.RETR_TREE, cv2.CHAIN_APPROX_SIMPLE)\n",
    "\n",
    "\n",
    "cv2.drawContours(img, contours, -1, (0, 255, 0), 3)\n",
    "\n",
    "cv2.imshow('Contours', img)\n",
    "cv2.waitKey(0)\n",
    "cv2.destroyAllWindows()\n"
   ]
  },
  {
   "cell_type": "markdown",
   "id": "9b842f95",
   "metadata": {},
   "source": [
    "Approxpolydp() function"
   ]
  },
  {
   "cell_type": "code",
   "execution_count": null,
   "id": "d97971ea",
   "metadata": {},
   "outputs": [],
   "source": [
    "import cv2\n",
    "\n",
    "# Read the image\n",
    "img = cv2.imread('trin.png')\n",
    "\n",
    "\n",
    "gray = cv2.cvtColor(img, cv2.COLOR_BGR2GRAY)\n",
    "\n",
    "_, thresh = cv2.threshold(gray, 200, 255, cv2.THRESH_BINARY)\n",
    "\n",
    "contours, hierarchy = cv2.findContours(thresh, cv2.RETR_TREE, cv2.CHAIN_APPROX_SIMPLE)\n",
    "\n",
    "for contour in contours:\n",
    "    approx=cv2.approxPolyDP(contour,0.01*cv2.arcLength(contour,True),True)\n",
    "    \n",
    "    corner=len(approx)\n",
    "    \n",
    "    if corner==3:\n",
    "        shape_name='triangle'\n",
    "\n",
    "    elif corner==4:\n",
    "        shape_name='rectrangle'\n",
    "    elif corner==5:\n",
    "        shape_name=='pantangon'\n",
    "        \n",
    "    else:\n",
    "        shape_name='unknown shape'\n",
    "\n",
    "    cv2.drawContours(img,[approx],0,(0,255,0),2)\n",
    "    x=approx.ravel()[0]\n",
    "    y=approx.ravel()[1]-10\n",
    "    cv2.putText(img,shape_name,(x,y),cv2.FONT_HERSHEY_COMPLEX,0.6,(0,255,0),3)\n",
    "\n",
    "# Display the result\n",
    "cv2.imshow('Contours', img)\n",
    "cv2.waitKey(0)\n",
    "cv2.destroyAllWindows()\n"
   ]
  },
  {
   "cell_type": "code",
   "execution_count": null,
   "id": "70b5dc62",
   "metadata": {},
   "outputs": [],
   "source": [
    "import cv2\n"
   ]
  }
 ],
 "metadata": {
  "kernelspec": {
   "display_name": "base",
   "language": "python",
   "name": "python3"
  },
  "language_info": {
   "codemirror_mode": {
    "name": "ipython",
    "version": 3
   },
   "file_extension": ".py",
   "mimetype": "text/x-python",
   "name": "python",
   "nbconvert_exporter": "python",
   "pygments_lexer": "ipython3",
   "version": "3.13.5"
  }
 },
 "nbformat": 4,
 "nbformat_minor": 5
}
