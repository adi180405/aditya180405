{
 "cells": [
  {
   "cell_type": "code",
   "execution_count": 2,
   "id": "168932b7",
   "metadata": {},
   "outputs": [],
   "source": [
    "import cv2\n"
   ]
  },
  {
   "cell_type": "code",
   "execution_count": 4,
   "id": "1c821aa5",
   "metadata": {},
   "outputs": [],
   "source": [
    "face_cascade=cv2.CascadeClassifier('F:\\OpenCV\\haarcascade_frontalface_default.xml')\n",
    "cap=cv2.VideoCapture(0)\n",
    "\n",
    "while True:\n",
    "    ret,frame= cap.read()\n",
    "    \n",
    "    gray=cv2.cvtColor(frame,cv2.COLOR_BGR2GRAY)\n",
    "    faces = face_cascade.detectMultiScale(gray,1.1,5) #neighbor 5 for safe checking 6 for strick checking 3 for loose checking\n",
    "    for (x,y,w,h) in faces:\n",
    "        cv2.rectangle(frame,(x,y),(x+w,y+h),(0,255,0),3)\n",
    "    \n",
    "    cv2.imshow('webcam face detection',frame)\n",
    "    if cv2.waitKey(1) & 0xFF == ord('q'):\n",
    "        break\n",
    "cap.release()\n",
    "cv2.destroyAllWindows() "
   ]
  },
  {
   "cell_type": "code",
   "execution_count": 12,
   "id": "6c078706",
   "metadata": {},
   "outputs": [],
   "source": [
    "face_cascade=cv2.CascadeClassifier('F:\\OpenCV\\haarcascade_frontalface_default.xml')\n",
    "eye_cascade=cv2.CascadeClassifier('F:\\OpenCV\\haarcascade_eye.xml')\n",
    "slime_cascade=cv2.CascadeClassifier('F:\\OpenCV\\haarcascade_smile.xml')\n",
    "\n",
    "cap=cv2.VideoCapture(0)\n",
    "\n",
    "while True:\n",
    "    ret,frame=cap.read()\n",
    "    gray=cv2.cvtColor(frame,cv2.COLOR_BGR2GRAY)\n",
    "    \n",
    "    faces=face_cascade.detectMultiScale(gray,1.1,5)\n",
    "    \n",
    "    for (x,y,w,h) in faces:\n",
    "        cv2.rectangle(frame,(x,y),(x+w,y+h),(0,255,0),3)\n",
    "      \n",
    "    roi_gray=gray[y:y+h,x:x+w]\n",
    "    roi_color=frame[y:y+h,x:x+w]\n",
    "    \n",
    "    eyes=eye_cascade.detectMultiScale(roi_gray,1.1,10)\n",
    "    if len(eyes)>0:\n",
    "        cv2.putText(frame,'Eyes detected',(x,y-30),cv2.FONT_HERSHEY_COMPLEX,0.6,(0,0,255),3)\n",
    "        \n",
    "    slimes=slime_cascade.detectMultiScale(roi_color,1.7,17)\n",
    "    if len(slimes)>0:\n",
    "         cv2.putText(frame,'sliming',(x,y-10),cv2.FONT_HERSHEY_COMPLEX,0.6,(255,0,0),3)\n",
    "    \n",
    "    cv2.imshow('smart face detection',frame)\n",
    "    if cv2.waitKey(1) & 0xFF == ord('q'):\n",
    "        break\n",
    "cap.release()\n",
    "cv2.destroyAllWindows()    \n",
    "       "
   ]
  }
 ],
 "metadata": {
  "kernelspec": {
   "display_name": "base",
   "language": "python",
   "name": "python3"
  },
  "language_info": {
   "codemirror_mode": {
    "name": "ipython",
    "version": 3
   },
   "file_extension": ".py",
   "mimetype": "text/x-python",
   "name": "python",
   "nbconvert_exporter": "python",
   "pygments_lexer": "ipython3",
   "version": "3.13.5"
  }
 },
 "nbformat": 4,
 "nbformat_minor": 5
}
